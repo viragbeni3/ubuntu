{
 "cells": [
  {
   "cell_type": "markdown",
   "metadata": {},
   "source": [
    "## Felügyelet nélküli telepítő (iso) készítése:"
   ]
  },
  {
   "cell_type": "code",
   "execution_count": null,
   "metadata": {},
   "outputs": [],
   "source": [
    "%%sh\n",
    "cd ~\n",
    "rm -f -R ~/ubuntu-iso\n",
    "pwd\n",
    "git clone https://github.com/englert/ubuntu-iso.git\n",
    "cd ~/ubuntu-iso\n",
    "gnome-terminal -e \"sudo ./create-unattended-iso.sh\"\n"
   ]
  },
  {
   "cell_type": "markdown",
   "metadata": {},
   "source": [
    "## Ubuntu szerver telepítése Virtualboxon:"
   ]
  },
  {
   "cell_type": "markdown",
   "metadata": {},
   "source": [
    "\n",
    "\n"
   ]
  },
  {
   "cell_type": "code",
   "execution_count": 76,
   "metadata": {},
   "outputs": [
    {
     "name": "stdout",
     "output_type": "stream",
     "text": [
      "Virtual machine 'ubu' is created and registered.\n",
      "UUID: 01c0bb05-3bb7-462a-aaed-e7e58b949f40\n",
      "Settings file: '/home/sis/VirtualBox VMs/ubu/ubu.vbox'\n",
      "Medium created. UUID: 7e428c47-a32f-43d0-8b77-a6d00c6b5600\n"
     ]
    },
    {
     "name": "stderr",
     "output_type": "stream",
     "text": [
      "0%...10%...20%...30%...40%...50%...60%...70%...80%...90%...100%\n"
     ]
    }
   ],
   "source": [
    "%%sh\n",
    "VM=\"ubu\"\n",
    "RAM=\"2048\"\n",
    "VRAM=\"16\"\n",
    "HDD=\"8192\"\n",
    "LAN=\"wlp2s0\"\n",
    "ISO=\"ubuntuserver.iso\"\n",
    "VMs=\"VirtualBox VMs\"\n",
    "cd ~\n",
    "VBoxManage createvm --name $VM --ostype \"Linux_64\" --register\n",
    "VBoxManage modifyvm $VM --nic1 bridged --bridgeadapter1 $LAN\n",
    "VBoxManage createhd --filename \"$VMs/$VM/$VM.vdi\" --size $HDD\n",
    "VBoxManage storagectl $VM --name \"SATA Controller\" --add sata\n",
    "VBoxManage storageattach $VM --storagectl \"SATA Controller\" --port 0 --device 0 --type hdd --medium \"$VMs/$VM/$VM.vdi\"\n",
    "VBoxManage storagectl $VM --name \"IDE Controller\" --add ide\n",
    "VBoxManage storageattach $VM --storagectl \"IDE Controller\" --port 0 --device 0 --type dvddrive --medium $ISO\n",
    "VBoxManage modifyvm $VM --ioapic on\n",
    "VBoxManage modifyvm $VM --boot1 dvd --boot2 disk --boot3 none --boot4 none\n",
    "VBoxManage modifyvm $VM --memory $RAM --vram $VRAM"
   ]
  },
  {
   "cell_type": "code",
   "execution_count": 77,
   "metadata": {},
   "outputs": [
    {
     "name": "stdout",
     "output_type": "stream",
     "text": [
      "Waiting for VM \"ubu\" to power on...\n",
      "VM \"ubu\" has been successfully started.\n"
     ]
    }
   ],
   "source": [
    "%%sh\n",
    "VM=\"ubu\"\n",
    "VBoxManage startvm $VM --type headless"
   ]
  },
  {
   "cell_type": "code",
   "execution_count": 79,
   "metadata": {},
   "outputs": [
    {
     "name": "stdout",
     "output_type": "stream",
     "text": [
      "No value set!\n"
     ]
    }
   ],
   "source": [
    "%%sh\n",
    "VBoxManage guestproperty get \"ubu\" \"/VirtualBox VMs/GuestInfo/Net/0/V4/IP\""
   ]
  },
  {
   "cell_type": "code",
   "execution_count": 103,
   "metadata": {},
   "outputs": [
    {
     "name": "stderr",
     "output_type": "stream",
     "text": [
      "Oracle VM VirtualBox Command Line Management Interface Version 5.2.6\n",
      "(C) 2005-2018 Oracle Corporation\n",
      "All rights reserved.\n",
      "\n",
      "Usage:\n",
      "\n",
      "VBoxManage showvminfo       <uuid|vmname> [--details]\n",
      "                            [--machinereadable]\n",
      "VBoxManage showvminfo       <uuid|vmname> --log <idx>\n",
      "\n",
      "\n",
      "Syntax error: VM name or UUID required\n",
      "sh: 1: Bad substitution\n",
      "sh: 1: Bad substitution\n",
      "sh: 1: Bad substitution\n",
      "sh: 1: Bad substitution\n",
      "sh: 1: Bad substitution\n",
      "sh: 1: Bad substitution\n",
      "sh: 30: Bad substitution\n",
      "sh: 1: Bad substitution\n"
     ]
    }
   ],
   "source": [
    "%%sh\n",
    "cat <<EOF> vboxip.sh \n",
    "\n",
    "##!/bin/bash\n",
    "#\n",
    "# Translate a MAC address fetched from VirtualBox into a IP address\n",
    "#\n",
    "\n",
    "if [  $# -lt 1 ]; then \n",
    "  echo -e \"\\nUsage:\\n$0 [virtual machine] \\n\" \n",
    "  exit 1\n",
    "fi\n",
    "\n",
    "# Get a string of the form macaddress1=xxxxxxxxxxx\n",
    "var1=$(VBoxManage showvminfo $1 --machinereadable |grep macaddress1)\n",
    "\n",
    "# Asdign macaddress1 the MAC address as a value\n",
    "eval $var1\n",
    "\n",
    "# assign m the MAC address in lower case\n",
    "m=$(echo ${macaddress1}|tr '[A-Z]' '[a-z]')\n",
    "\n",
    "# This is the MAC address formatted with : and 0n translated into n\n",
    "mymac=$(echo `expr ${m:0:2}`:`expr ${m:2:2}`:`expr ${m:4:2}`:`expr ${m:6:2}`:`expr ${m:8:2}`:`expr ${m:10:2}`)\n",
    "echo \"The MAC address of the virtual machine $1 is $mymac\"\n",
    "\n",
    "# Get known IP and MAC addresses\n",
    "IFS=$'\\n'; for line in $(arp -a); do \n",
    "#  echo $line\n",
    "  IFS=' ' read -a array <<< $line\n",
    "  ip=$(echo \"${array[1]}\"|tr \"(\" \" \"|tr \")\" \" \")\n",
    "\n",
    "  if [ \"$mymac\" = \"${array[3]}\" ]; then\n",
    "    echo \"and the IP address is $ip\"\n",
    "  fi\n",
    "\n",
    "done\n",
    "\n",
    "XooX\n",
    "chmod +X vboxip.sh"
   ]
  },
  {
   "cell_type": "code",
   "execution_count": null,
   "metadata": {},
   "outputs": [],
   "source": []
  },
  {
   "cell_type": "code",
   "execution_count": 93,
   "metadata": {},
   "outputs": [],
   "source": [
    "%%sh\n",
    "cat <<EOF> mmaa\n",
    "asdf asdfasd asdf asdf asdf\n",
    " asdfasdf asdf asd\n",
    "    4444444444444444\n",
    "EOF\n"
   ]
  },
  {
   "cell_type": "code",
   "execution_count": 94,
   "metadata": {
    "scrolled": true
   },
   "outputs": [
    {
     "name": "stdout",
     "output_type": "stream",
     "text": [
      "kezdetek.ipynb  mmaa  \u001b[0m\u001b[01;34mubuntu-iso\u001b[0m/  vboxip.sh\r\n"
     ]
    }
   ],
   "source": [
    "ls\n"
   ]
  },
  {
   "cell_type": "code",
   "execution_count": 105,
   "metadata": {},
   "outputs": [
    {
     "name": "stdout",
     "output_type": "stream",
     "text": [
      "The MAC address of the virtual machine ubu is 08:00:27:31:65:22\n"
     ]
    }
   ],
   "source": [
    "%%sh\n",
    "./vboxip.sh ubu"
   ]
  },
  {
   "cell_type": "code",
   "execution_count": 106,
   "metadata": {},
   "outputs": [
    {
     "name": "stdout",
     "output_type": "stream",
     "text": [
      "You need to be root, or arp-scan must be SUID root, to open a link-layer socket.\r\n",
      "link_open: Operation not permitted\r\n"
     ]
    }
   ],
   "source": [
    "!arp-scan  08:00:27:31:65:22\n",
    "                    "
   ]
  },
  {
   "cell_type": "code",
   "execution_count": null,
   "metadata": {},
   "outputs": [],
   "source": []
  }
 ],
 "metadata": {
  "kernelspec": {
   "display_name": "Python 3",
   "language": "python",
   "name": "python3"
  },
  "language_info": {
   "codemirror_mode": {
    "name": "ipython",
    "version": 3
   },
   "file_extension": ".py",
   "mimetype": "text/x-python",
   "name": "python",
   "nbconvert_exporter": "python",
   "pygments_lexer": "ipython3",
   "version": "3.5.2"
  }
 },
 "nbformat": 4,
 "nbformat_minor": 2
}
